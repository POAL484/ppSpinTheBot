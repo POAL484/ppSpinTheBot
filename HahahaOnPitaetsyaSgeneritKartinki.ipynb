{
 "cells": [
  {
   "cell_type": "code",
   "execution_count": 18,
   "metadata": {},
   "outputs": [],
   "source": [
    "from PIL import Image, features, ImageDraw, ImageFont\n",
    "import PIL"
   ]
  },
  {
   "cell_type": "code",
   "execution_count": 6,
   "metadata": {},
   "outputs": [
    {
     "name": "stdout",
     "output_type": "stream",
     "text": [
      "--------------------------------------------------------------------\n",
      "Pillow 10.0.0\n",
      "Python 3.11.1 (tags/v3.11.1:a7a450f, Dec  6 2022, 19:58:39) [MSC v.1934 64 bit (AMD64)]\n",
      "--------------------------------------------------------------------\n",
      "Python modules loaded from c:\\Users\\pbrag\\AppData\\Local\\Programs\\Python\\Python311\\ppSpinTheBot\\.venv\\Lib\\site-packages\\PIL\n",
      "Binary modules loaded from c:\\Users\\pbrag\\AppData\\Local\\Programs\\Python\\Python311\\ppSpinTheBot\\.venv\\Lib\\site-packages\\PIL\n",
      "--------------------------------------------------------------------\n",
      "--- PIL CORE support ok, compiled for 10.0.0\n",
      "--- TKINTER support ok, loaded 8.6\n",
      "--- FREETYPE2 support ok, loaded 2.13.1\n",
      "--- LITTLECMS2 support ok, loaded 2.15\n",
      "--- WEBP support ok, loaded 1.3.1\n",
      "--- WEBP Transparency support ok\n",
      "--- WEBPMUX support ok\n",
      "--- WEBP Animation support ok\n",
      "--- JPEG support ok, compiled for libjpeg-turbo 2.1.5.1\n",
      "--- OPENJPEG (JPEG2000) support ok, loaded 2.5.0\n",
      "--- ZLIB (PNG/ZIP) support ok, loaded 1.2.13\n",
      "--- LIBTIFF support ok, loaded 4.5.1\n",
      "*** RAQM (Bidirectional Text) support not installed\n",
      "*** LIBIMAGEQUANT (Quantization method) support not installed\n",
      "*** XCB (X protocol) support not installed\n",
      "--------------------------------------------------------------------\n",
      "BLP\n",
      "Extensions: .blp\n",
      "Features: open, save, encode\n",
      "--------------------------------------------------------------------\n",
      "BMP image/bmp\n",
      "Extensions: .bmp\n",
      "Features: open, save\n",
      "--------------------------------------------------------------------\n",
      "BUFR\n",
      "Extensions: .bufr\n",
      "Features: open, save\n",
      "--------------------------------------------------------------------\n",
      "CUR\n",
      "Extensions: .cur\n",
      "Features: open\n",
      "--------------------------------------------------------------------\n",
      "DCX\n",
      "Extensions: .dcx\n",
      "Features: open\n",
      "--------------------------------------------------------------------\n",
      "DDS\n",
      "Extensions: .dds\n",
      "Features: open, save\n",
      "--------------------------------------------------------------------\n",
      "DIB image/bmp\n",
      "Extensions: .dib\n",
      "Features: open, save\n",
      "--------------------------------------------------------------------\n",
      "EPS application/postscript\n",
      "Extensions: .eps, .ps\n",
      "Features: open, save\n",
      "--------------------------------------------------------------------\n",
      "FITS\n",
      "Extensions: .fit, .fits\n",
      "Features: open\n",
      "--------------------------------------------------------------------\n",
      "FLI\n",
      "Extensions: .flc, .fli\n",
      "Features: open\n",
      "--------------------------------------------------------------------\n",
      "FTEX\n",
      "Extensions: .ftc, .ftu\n",
      "Features: open\n",
      "--------------------------------------------------------------------\n",
      "GBR\n",
      "Extensions: .gbr\n",
      "Features: open\n",
      "--------------------------------------------------------------------\n",
      "GIF image/gif\n",
      "Extensions: .gif\n",
      "Features: open, save, save_all\n",
      "--------------------------------------------------------------------\n",
      "GRIB\n",
      "Extensions: .grib\n",
      "Features: open, save\n",
      "--------------------------------------------------------------------\n",
      "HDF5\n",
      "Extensions: .h5, .hdf\n",
      "Features: open, save\n",
      "--------------------------------------------------------------------\n",
      "ICNS image/icns\n",
      "Extensions: .icns\n",
      "Features: open, save\n",
      "--------------------------------------------------------------------\n",
      "ICO image/x-icon\n",
      "Extensions: .ico\n",
      "Features: open, save\n",
      "--------------------------------------------------------------------\n",
      "IM\n",
      "Extensions: .im\n",
      "Features: open, save\n",
      "--------------------------------------------------------------------\n",
      "IMT\n",
      "Features: open\n",
      "--------------------------------------------------------------------\n",
      "IPTC\n",
      "Extensions: .iim\n",
      "Features: open\n",
      "--------------------------------------------------------------------\n",
      "JPEG image/jpeg\n",
      "Extensions: .jfif, .jpe, .jpeg, .jpg\n",
      "Features: open, save\n",
      "--------------------------------------------------------------------\n",
      "JPEG2000 image/jp2\n",
      "Extensions: .j2c, .j2k, .jp2, .jpc, .jpf, .jpx\n",
      "Features: open, save\n",
      "--------------------------------------------------------------------\n",
      "MCIDAS\n",
      "Features: open\n",
      "--------------------------------------------------------------------\n",
      "MPEG video/mpeg\n",
      "Extensions: .mpeg, .mpg\n",
      "Features: open\n",
      "--------------------------------------------------------------------\n",
      "MSP\n",
      "Extensions: .msp\n",
      "Features: open, save, decode\n",
      "--------------------------------------------------------------------\n",
      "PCD\n",
      "Extensions: .pcd\n",
      "Features: open\n",
      "--------------------------------------------------------------------\n",
      "PCX image/x-pcx\n",
      "Extensions: .pcx\n",
      "Features: open, save\n",
      "--------------------------------------------------------------------\n",
      "PIXAR\n",
      "Extensions: .pxr\n",
      "Features: open\n",
      "--------------------------------------------------------------------\n",
      "PNG image/png\n",
      "Extensions: .apng, .png\n",
      "Features: open, save, save_all\n",
      "--------------------------------------------------------------------\n",
      "PPM image/x-portable-anymap\n",
      "Extensions: .pbm, .pgm, .pnm, .ppm\n",
      "Features: open, save\n",
      "--------------------------------------------------------------------\n",
      "PSD image/vnd.adobe.photoshop\n",
      "Extensions: .psd\n",
      "Features: open\n",
      "--------------------------------------------------------------------\n",
      "QOI\n",
      "Extensions: .qoi\n",
      "Features: open\n",
      "--------------------------------------------------------------------\n",
      "SGI image/sgi\n",
      "Extensions: .bw, .rgb, .rgba, .sgi\n",
      "Features: open, save\n",
      "--------------------------------------------------------------------\n",
      "SPIDER\n",
      "Features: open, save\n",
      "--------------------------------------------------------------------\n",
      "SUN\n",
      "Extensions: .ras\n",
      "Features: open\n",
      "--------------------------------------------------------------------\n",
      "TGA image/x-tga\n",
      "Extensions: .icb, .tga, .vda, .vst\n",
      "Features: open, save\n",
      "--------------------------------------------------------------------\n",
      "TIFF image/tiff\n",
      "Extensions: .tif, .tiff\n",
      "Features: open, save, save_all\n",
      "--------------------------------------------------------------------\n",
      "WEBP image/webp\n",
      "Extensions: .webp\n",
      "Features: open, save, save_all\n",
      "--------------------------------------------------------------------\n",
      "WMF\n",
      "Extensions: .emf, .wmf\n",
      "Features: open, save\n",
      "--------------------------------------------------------------------\n",
      "XBM image/xbm\n",
      "Extensions: .xbm\n",
      "Features: open, save\n",
      "--------------------------------------------------------------------\n",
      "XPM image/xpm\n",
      "Extensions: .xpm\n",
      "Features: open\n",
      "--------------------------------------------------------------------\n",
      "XVTHUMB\n",
      "Features: open\n",
      "--------------------------------------------------------------------\n"
     ]
    }
   ],
   "source": [
    "features.pilinfo()"
   ]
  },
  {
   "cell_type": "code",
   "execution_count": 7,
   "metadata": {},
   "outputs": [],
   "source": [
    "img = Image.open(\"temp.webp\")\n",
    "img.show()"
   ]
  },
  {
   "cell_type": "code",
   "execution_count": 14,
   "metadata": {},
   "outputs": [],
   "source": [
    "fon = Image.open(\"asd_.png\")\n",
    "fon.show()"
   ]
  },
  {
   "cell_type": "code",
   "execution_count": 15,
   "metadata": {},
   "outputs": [],
   "source": [
    "fon.paste(img, (100, 100))\n",
    "fon.show()"
   ]
  },
  {
   "cell_type": "code",
   "execution_count": 17,
   "metadata": {},
   "outputs": [],
   "source": [
    "fonDraw = ImageDraw.Draw(fon)\n",
    "fonDraw.line([(10, 100), (100, 100)], (255, 255, 255), 10)\n",
    "fon.show()"
   ]
  },
  {
   "cell_type": "code",
   "execution_count": 19,
   "metadata": {},
   "outputs": [],
   "source": [
    "font = ImageFont.truetype(\"segoeuib.ttf\", 25)\n",
    "fonDraw.text((400, 400), \"123 Помидоры\", (255, 255, 255), font)\n",
    "fon.show()"
   ]
  },
  {
   "cell_type": "code",
   "execution_count": null,
   "metadata": {},
   "outputs": [],
   "source": [
    "\n",
    "    #@commands.command(name=\"top7tv\")\n",
    "    #async def top7tv(self, ctx: commands.Context):\n",
    "        if self.USERDATA['gcd']['top7tv'] != 0: return\n",
    "        #await ctx.reply(\"Создаю картинку PauseChamp ✋ \")\n",
    "        top1 = self.USERDATA['pwemts']\n",
    "        top2 = {'name': [], 'id': [], 'used': []}\n",
    "        for i in top1.keys():\n",
    "            top2['name'].append(i)\n",
    "            top2['id'].append(top1[i]['id'])\n",
    "            top2['used'].append(top1[i]['used'])\n",
    "        df = pd.DataFrame(top2)\n",
    "        df = df.sort_values(by=['used'], ascending=False)\n",
    "        top3 = {}\n",
    "        for i in range(10):\n",
    "            top3[df['name'][df.index[i]]] = {'id': df['id'][df.index[i]], 'used': df['used'][df.index[i]]}\n",
    "        top4 = \"\"\n",
    "        maxX = 100\n",
    "        maxY = 0\n",
    "        alX = 50\n",
    "        alY = 50\n",
    "        img = cv.imread(\"asd_.png\")\n",
    "        cv.putText(img, \"Top 7tv emotes in #pwgood !\", (alX, alY), cv.FONT_HERSHEY_SIMPLEX, 1.5,(255, 255, 255), 6)\n",
    "        wht, _ = cv.getTextSize(\"Top 7tv emotes in #pwgood !\", cv.FONT_HERSHEY_SIMPLEX, 1.5, 6)\n",
    "        wt, ht = wht\n",
    "        if alX + wt + 50 > maxX: maxX = alX + wt + 50\n",
    "        alY += ht + 50\n",
    "        maxY += ht + 50\n",
    "        for i in top3.keys():\n",
    "            url_d = f\"https://cdn.7tv.app/emote/{top3[i]['id']}/4x.webp\"\n",
    "            try:\n",
    "                ulr.urlretrieve(url_d, \"temp.webp\")\n",
    "                webpmux_getframe(\"temp.webp\", \"temp.webp\", '1')\n",
    "                dwebp(\"temp.webp\", \"temp.png\", '-o')\n",
    "                _img = cv.imread(\"temp.png\")\n",
    "            except Exception:\n",
    "                _img = cv.imread(\"error_get.png\")\n",
    "            h = _img.shape[0]\n",
    "            w = _img.shape[1]\n",
    "            wc = 1\n",
    "            if w != h:\n",
    "                if w > h:\n",
    "                    for j in range(w // h):\n",
    "                        img[alY:alY+h, alX+(j*h):alX+h+(j*h)] = _img[0:h, j*h:h+(j*h)]\n",
    "                    wc = w//h\n",
    "                elif h > w:\n",
    "                    for j in range(h // w):\n",
    "                        img[alY+(j*w):alY+w+(j*w), alX:alX+w] = _img[j*w:w+(j*w), 0:w]\n",
    "            else:\n",
    "                img[alY:alY+h, alX:alX+w] = _img[0:h, 0:w]\n",
    "            cv.putText(img, i, (alX+50+(h*wc), alY+((h//3)*2)), cv.FONT_HERSHEY_SIMPLEX, 3, (255, 255, 255), 6)\n",
    "            wht, _ = cv.getTextSize(i, cv.FONT_HERSHEY_SIMPLEX, 3, 6)\n",
    "            wt, ht = wht\n",
    "            cv.putText(img, str(top3[i]['used']), (alX+50+(h*wc)+wt+50, alY+((h//3)*2)), cv.FONT_HERSHEY_SIMPLEX, 3, (255, 255, 255), 6)\n",
    "            wht_, _ = cv.getTextSize(str(top3[i]['used']), cv.FONT_HERSHEY_SIMPLEX, 3, 6)\n",
    "            wt_, ht = wht_\n",
    "            if alX + w + 50 + wt + 50 + wt_ + 50 > maxX: maxX = alX + w + 50 + wt + 50 + wt_ + 50\n",
    "            alY += h + 50\n",
    "            maxY += h + 50\n",
    "        maxY += 50\n",
    "        img = img[0:maxY, 0:maxX]\n",
    "        cv.imwrite(\"tomato.png\", img)\n",
    "        resp = req.post(\"https://gachi.gay/api/upload\", files={'file': open(\"tomato.png\", 'rb')}).json()\n",
    "        await ctx.reply(f\"Топ 7тв эмоутов в чате ПВГуда: {resp['link']} PagMan | Кд - 120сек\")\n",
    "        self.USERDATA['gcd']['top7tv']  = 120\n",
    "        self.saveUserData()"
   ]
  },
  {
   "cell_type": "code",
   "execution_count": 28,
   "metadata": {},
   "outputs": [],
   "source": [
    "import json\n",
    "USERDATA = json.load(open(\"USERDATA.data\", 'r'))\n",
    "import pandas as pd\n",
    "import urllib.request as ulr\n",
    "import requests as req"
   ]
  },
  {
   "cell_type": "code",
   "execution_count": 25,
   "metadata": {},
   "outputs": [
    {
     "data": {
      "text/plain": [
       "{'AlienPls': {'id': '610d2fafd53540d5aad11594', 'used': 148598},\n",
       " 'xar2EDM': {'id': '60aeb46de90f445e4393d908', 'used': 132788},\n",
       " 'kekBomb': {'id': '60ef48af276c8fd8c63567d3', 'used': 115867},\n",
       " 'peepoCheer': {'id': '634da33e7cb0ea10c19633dd', 'used': 68945},\n",
       " 'SHTO': {'id': '62bca5936420068ac736a036', 'used': 53672},\n",
       " 'URA': {'id': '623df0593b0a80cee3ef25e0', 'used': 52730},\n",
       " 'wtf': {'id': '62691a2583dd8019c6c79c24', 'used': 40666},\n",
       " 'AlienPls3': {'id': '60ae2cfb259ac5a73ed9a00c', 'used': 40403},\n",
       " 'Pag': {'id': '623353c0b88633b42c0c1b8b', 'used': 39046},\n",
       " 'uuh': {'id': '645c29a0a93fbaf6fa2b5647', 'used': 38599}}"
      ]
     },
     "execution_count": 25,
     "metadata": {},
     "output_type": "execute_result"
    }
   ],
   "source": [
    "top1 = USERDATA['pwemts']\n",
    "top2 = {'name': [], 'id': [], 'used': []}\n",
    "for i in top1.keys():\n",
    "    top2['name'].append(i)\n",
    "    top2['id'].append(top1[i]['id'])\n",
    "    top2['used'].append(top1[i]['used'])\n",
    "df = pd.DataFrame(top2)\n",
    "df = df.sort_values(by=['used'], ascending=False)\n",
    "top3 = {}\n",
    "for i in range(10):\n",
    "    top3[df['name'][df.index[i]]] = {'id': df['id'][df.index[i]], 'used': df['used'][df.index[i]]}\n",
    "top3"
   ]
  },
  {
   "cell_type": "code",
   "execution_count": 27,
   "metadata": {},
   "outputs": [
    {
     "data": {
      "text/plain": [
       "('emts/temp.webp', <http.client.HTTPMessage at 0x203249483d0>)"
      ]
     },
     "execution_count": 27,
     "metadata": {},
     "output_type": "execute_result"
    }
   ],
   "source": [
    "url_d = f\"https://cdn.7tv.app/emote/{top3['uuh']['id']}/4x.webp\"\n",
    "ulr.urlretrieve(url_d, \"emts/temp.webp\")\n"
   ]
  },
  {
   "cell_type": "code",
   "execution_count": 43,
   "metadata": {},
   "outputs": [],
   "source": [
    "bg = Image.open(\"emts/bg.webp\")\n",
    "bg.show()"
   ]
  },
  {
   "cell_type": "code",
   "execution_count": 44,
   "metadata": {},
   "outputs": [],
   "source": [
    "bgD = ImageDraw.Draw(bg)"
   ]
  },
  {
   "cell_type": "code",
   "execution_count": 45,
   "metadata": {},
   "outputs": [],
   "source": [
    "bg.paste(Image.open(\"emts/temp.webp\"), (100, 100))\n",
    "bg.show()"
   ]
  },
  {
   "cell_type": "code",
   "execution_count": 37,
   "metadata": {},
   "outputs": [
    {
     "data": {
      "text/plain": [
       "228"
      ]
     },
     "execution_count": 37,
     "metadata": {},
     "output_type": "execute_result"
    }
   ],
   "source": [
    "emt = Image.open(\"emts/temp.webp\")\n",
    "emt.size[0]"
   ]
  },
  {
   "cell_type": "code",
   "execution_count": 46,
   "metadata": {},
   "outputs": [],
   "source": [
    "font = ImageFont.truetype(\"segoeuib.ttf\", 80)\n",
    "bgD.text((100+emt.size[0]+40, 100), \"uuh\", (0, 0, 0), font)\n",
    "bg.show()"
   ]
  },
  {
   "cell_type": "code",
   "execution_count": 47,
   "metadata": {},
   "outputs": [
    {
     "data": {
      "text/plain": [
       "144.0"
      ]
     },
     "execution_count": 47,
     "metadata": {},
     "output_type": "execute_result"
    }
   ],
   "source": [
    "font.getlength(\"uuh\")"
   ]
  },
  {
   "cell_type": "code",
   "execution_count": 49,
   "metadata": {},
   "outputs": [],
   "source": [
    "bgD.text((100+emt.size[0]+40+font.getlength(\"uuh\")+40, 100), str(top3[\"uuh\"]['used']), (0, 0, 0), font)\n",
    "bg.show()"
   ]
  },
  {
   "cell_type": "code",
   "execution_count": 57,
   "metadata": {},
   "outputs": [],
   "source": [
    "df.to_excel(\"temp.xlsx\")"
   ]
  },
  {
   "cell_type": "code",
   "execution_count": 60,
   "metadata": {},
   "outputs": [],
   "source": [
    "bg = Image.open(\"emts/bg.webp\")\n",
    "bgD = ImageDraw.Draw(bg)\n",
    "font = ImageFont.truetype(\"segoeuib.ttf\", 80)\n",
    "maxX = 0\n",
    "maxY = 40\n",
    "nowX = 40\n",
    "for i in top3.keys():\n",
    "    url_d = f\"https://cdn.7tv.app/emote/{top3[i]['id']}/4x.webp\"\n",
    "    try:\n",
    "        ulr.urlretrieve(url_d, \"emts/temp.webp\")\n",
    "        emt = Image.open(\"emts/temp.webp\")\n",
    "    except Exception:\n",
    "        emt = Image.open(\"emts/error_getting_emote.webp\")\n",
    "    nowX = 40\n",
    "    bg.paste(emt, (nowX, maxY))\n",
    "    nowX += emt.size[0] + 40\n",
    "    bgD.text((nowX, maxY), i, (0, 0, 0), font)\n",
    "    nowX += font.getlength(i) + 40\n",
    "    bgD.text((nowX, maxY), str(top3[i]['used']), (0, 0, 0), font)\n",
    "    nowX += font.getlength(str(top3[i]['used'])) + 40\n",
    "    maxY += emt.size[1] + 40\n",
    "    if nowX > maxX: maxX = nowX\n",
    "bg = bg.crop((0, 0, maxX, maxY))\n",
    "bg.show()\n",
    "\n",
    "    "
   ]
  },
  {
   "cell_type": "code",
   "execution_count": 61,
   "metadata": {},
   "outputs": [],
   "source": [
    "from webptools import webpmux_getframe, dwebp, grant_permission\n",
    "grant_permission()"
   ]
  },
  {
   "cell_type": "code",
   "execution_count": 62,
   "metadata": {},
   "outputs": [
    {
     "data": {
      "text/plain": [
       "{'exit_code': 0,\n",
       " 'stdout': b'',\n",
       " 'stderr': b'Time to decode picture: 0.000s\\r\\nDecoded emts/temp.webp. Dimensions: 228 x 128 . Format: lossy. Now saving...\\r\\nSaved file emts/temp.png\\r\\nTime to write output: 0.009s\\r\\n',\n",
       " 'command': 'c:\\\\Users\\\\pbrag\\\\AppData\\\\Local\\\\Programs\\\\Python\\\\Python311\\\\ppSpinTheBot\\\\.venv\\\\Lib\\\\site-packages/lib/libwebp_win64/bin/dwebp.exe emts/temp.webp -o emts/temp.png -v'}"
      ]
     },
     "execution_count": 62,
     "metadata": {},
     "output_type": "execute_result"
    }
   ],
   "source": [
    "webpmux_getframe(\"emts/temp.webp\", \"emts/temp.webp\", '1')\n",
    "dwebp(\"emts/temp.webp\", \"emts/temp.png\", '-o')"
   ]
  },
  {
   "cell_type": "code",
   "execution_count": 69,
   "metadata": {},
   "outputs": [],
   "source": [
    "bg = Image.open(\"emts/bg.webp\")\n",
    "bgD = ImageDraw.Draw(bg)\n",
    "font = ImageFont.truetype(\"segoeuib.ttf\", 80)\n",
    "maxX = 0\n",
    "maxY = 40\n",
    "nowX = 40\n",
    "for i in top3.keys():\n",
    "    url_d = f\"https://cdn.7tv.app/emote/{top3[i]['id']}/4x.webp\"\n",
    "    try:\n",
    "        ulr.urlretrieve(url_d, \"emts/temp.webp\")\n",
    "        webpmux_getframe(\"emts/temp.webp\", \"emts/temp.webp\", '1')\n",
    "        dwebp(\"emts/temp.webp\", \"emts/temp.png\", '-o')\n",
    "        emt = Image.open(\"emts/temp.png\")\n",
    "    except Exception:\n",
    "        emt = Image.open(\"emts/error_getting_emote.webp\")\n",
    "    nowX = 40\n",
    "    bg.paste(emt, (nowX, maxY))\n",
    "    nowX += emt.size[0] + 40\n",
    "    bgD.text((nowX, maxY), i, (0, 0, 0), font)\n",
    "    nowX += font.getlength(i) + 40\n",
    "    bgD.text((nowX, maxY), str(top3[i]['used']), (0, 0, 0), font)\n",
    "    nowX += font.getlength(str(top3[i]['used'])) + 40\n",
    "    maxY += emt.size[1] + 40\n",
    "    if nowX > maxX: maxX = nowX\n",
    "bg = bg.crop((0, 0, maxX, maxY))\n",
    "bg.show()"
   ]
  },
  {
   "cell_type": "code",
   "execution_count": 92,
   "metadata": {},
   "outputs": [
    {
     "data": {
      "text/plain": [
       "('emts/temp.webp', <http.client.HTTPMessage at 0x203407c7ad0>)"
      ]
     },
     "execution_count": 92,
     "metadata": {},
     "output_type": "execute_result"
    }
   ],
   "source": [
    "ulr.urlretrieve(f\"https://cdn.7tv.app/emote/{top3['AlienPls']['id']}/4x.webp\", \"emts/temp.webp\")\n",
    "#webpmux_getframe(\"emts/temp.webp\", \"emts/temp.webp\", '1')\n",
    "#dwebp(\"emts/temp.webp\", \"emts/temp.gif\", '-o')"
   ]
  },
  {
   "cell_type": "code",
   "execution_count": 93,
   "metadata": {},
   "outputs": [],
   "source": [
    "emt = Image.open(\"emts/temp.webp\", 'r')\n",
    "emt.save(\"emts/temp.webp\", save_all=True)"
   ]
  },
  {
   "cell_type": "code",
   "execution_count": 80,
   "metadata": {},
   "outputs": [
    {
     "data": {
      "text/plain": [
       "'RGBA'"
      ]
     },
     "execution_count": 80,
     "metadata": {},
     "output_type": "execute_result"
    }
   ],
   "source": [
    "emt.mode"
   ]
  },
  {
   "cell_type": "code",
   "execution_count": 94,
   "metadata": {},
   "outputs": [],
   "source": [
    "bg = Image.open(\"emts/bg.webp\")\n",
    "bg = bg.convert(\"RGBA\")\n",
    "bg.alpha_composite(emt)\n",
    "bg.show()"
   ]
  },
  {
   "cell_type": "code",
   "execution_count": 95,
   "metadata": {},
   "outputs": [],
   "source": [
    "bg.save(\"emts/ready.webp\", save_all=True)"
   ]
  },
  {
   "cell_type": "code",
   "execution_count": 97,
   "metadata": {},
   "outputs": [
    {
     "data": {
      "text/plain": [
       "{'AlienPls': {'id': '610d2fafd53540d5aad11594', 'used': 148598, 'n': 1},\n",
       " 'xar2EDM': {'id': '60aeb46de90f445e4393d908', 'used': 132788, 'n': 2},\n",
       " 'kekBomb': {'id': '60ef48af276c8fd8c63567d3', 'used': 115868, 'n': 3},\n",
       " 'peepoCheer': {'id': '634da33e7cb0ea10c19633dd', 'used': 68945, 'n': 4},\n",
       " 'SHTO': {'id': '62bca5936420068ac736a036', 'used': 53672, 'n': 5},\n",
       " 'URA': {'id': '623df0593b0a80cee3ef25e0', 'used': 52734, 'n': 6},\n",
       " 'wtf': {'id': '62691a2583dd8019c6c79c24', 'used': 40666, 'n': 7},\n",
       " 'AlienPls3': {'id': '60ae2cfb259ac5a73ed9a00c', 'used': 40403, 'n': 8},\n",
       " 'Pag': {'id': '623353c0b88633b42c0c1b8b', 'used': 39049, 'n': 9},\n",
       " 'uuh': {'id': '645c29a0a93fbaf6fa2b5647', 'used': 38600, 'n': 10}}"
      ]
     },
     "execution_count": 97,
     "metadata": {},
     "output_type": "execute_result"
    }
   ],
   "source": [
    "top1 = USERDATA['pwemts']\n",
    "top2 = {'name': [], 'id': [], 'used': []}\n",
    "for i in top1.keys():\n",
    "    top2['name'].append(i)\n",
    "    top2['id'].append(top1[i]['id'])\n",
    "    top2['used'].append(top1[i]['used'])\n",
    "df = pd.DataFrame(top2)\n",
    "df = df.sort_values(by=['used'], ascending=False)\n",
    "top3 = {}\n",
    "for i in range(10):\n",
    "    top3[df['name'][df.index[i]]] = {'id': df['id'][df.index[i]], 'used': df['used'][df.index[i]], 'n': i+1}\n",
    "top3"
   ]
  },
  {
   "cell_type": "code",
   "execution_count": 134,
   "metadata": {},
   "outputs": [],
   "source": [
    "bg = Image.open(\"emts/bg.webp\")\n",
    "bg = bg.convert(\"RGBA\")\n",
    "bgD = ImageDraw.Draw(bg)\n",
    "font = ImageFont.truetype(\"segoeuib.ttf\", 80)\n",
    "maxX = 0\n",
    "maxY = 20\n",
    "nowX = 40\n",
    "bgD.text((nowX, maxY-20), \"Топ 7тв эмоутов пвгуда\", (0, 0, 0), font)\n",
    "maxY += 80 + 40\n",
    "for i in top3.keys():\n",
    "    url_d = f\"https://cdn.7tv.app/emote/{top3[i]['id']}/4x.webp\"\n",
    "    try:\n",
    "        ulr.urlretrieve(url_d, \"emts/temp.webp\")\n",
    "        emt = Image.open(\"emts/temp.webp\")\n",
    "    except Exception:\n",
    "        emt = Image.open(\"emts/error_getting_emote.webp\")\n",
    "    nowX = 40\n",
    "    bgD.line([(0, maxY-20), (3000, maxY-20)], (175, 175, 175), 6)\n",
    "\n",
    "    bgD.text((nowX, maxY), str(top3[i]['n']), (0, 0, 0), font)\n",
    "    nowX += font.getlength(str(top3[i]['n'])) + 40\n",
    "\n",
    "    bgD.line([(nowX-20, maxY-20), (nowX-20, maxY+emt.size[1]+20)], (175, 175, 175), 6)\n",
    "\n",
    "    bg.alpha_composite(emt, (int(nowX), int(maxY)))\n",
    "    nowX += emt.size[0] + 40\n",
    "\n",
    "    bgD.line([(nowX-20, maxY-20), (nowX-20, maxY+emt.size[1]+20)], (175, 175, 175), 6)\n",
    "\n",
    "    bgD.text((nowX, maxY), i, (0, 0, 0), font)\n",
    "    nowX += font.getlength(i) + 40\n",
    "\n",
    "    bgD.line([(nowX-20, maxY-20), (nowX-20, maxY+emt.size[1]+20)], (175, 175, 175), 6)\n",
    "\n",
    "    bgD.text((nowX, maxY), str(top3[i]['used']), (0, 0, 0), font)\n",
    "    nowX += font.getlength(str(top3[i]['used'])) + 40\n",
    "    maxY += emt.size[1] + 40\n",
    "    if nowX > maxX: maxX = nowX\n",
    "bg = bg.crop((0, 0, maxX, maxY))\n",
    "bg.show()\n",
    "bg.save(\"emts/ready.webp\")"
   ]
  },
  {
   "cell_type": "code",
   "execution_count": null,
   "metadata": {},
   "outputs": [],
   "source": []
  }
 ],
 "metadata": {
  "kernelspec": {
   "display_name": ".venv",
   "language": "python",
   "name": "python3"
  },
  "language_info": {
   "codemirror_mode": {
    "name": "ipython",
    "version": 3
   },
   "file_extension": ".py",
   "mimetype": "text/x-python",
   "name": "python",
   "nbconvert_exporter": "python",
   "pygments_lexer": "ipython3",
   "version": "3.11.1"
  },
  "orig_nbformat": 4
 },
 "nbformat": 4,
 "nbformat_minor": 2
}
